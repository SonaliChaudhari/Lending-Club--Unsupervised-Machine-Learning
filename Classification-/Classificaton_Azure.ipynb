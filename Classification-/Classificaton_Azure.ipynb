{
 "cells": [
  {
   "cell_type": "code",
   "execution_count": 4,
   "metadata": {
    "collapsed": false
   },
   "outputs": [
    {
     "name": "stdout",
     "output_type": "stream",
     "text": [
      "b'{\"Results\":{\"output1\":[{\"loan_amnt\":\"1\",\"purpose\":null,\"fico\":\"1\",\"dti\":\"1\",\"zip_code\":\"1\",\"State\":null,\"emp_length\":\"1\",\"Year\":\"1\",\"Month\":\"1\",\"Scored Labels\":\"0\",\"Scored Probabilities\":\"0.200405629120742\"}]}}'\n"
     ]
    }
   ],
   "source": [
    "import urllib.request\n",
    "import json\n",
    "\n",
    "data = {\n",
    "        \"Inputs\": {\n",
    "                \"input1\":\n",
    "                [\n",
    "                    {\n",
    "                            'loan_amnt': \"1\",   \n",
    "                            'purpose': \"\",   \n",
    "                            'fico': \"1\",   \n",
    "                            'dti': \"1\",   \n",
    "                            'zip_code': \"1\",   \n",
    "                            'State': \"\",   \n",
    "                            'emp_length': \"1\",   \n",
    "                            'Year': \"1\",   \n",
    "                            'Month': \"1\",   \n",
    "                    }\n",
    "                ],\n",
    "        },\n",
    "    \"GlobalParameters\":  {\n",
    "    }\n",
    "}\n",
    "\n",
    "body = str.encode(json.dumps(data))\n",
    "\n",
    "url = 'https://ussouthcentral.services.azureml.net/workspaces/91fc502741c3454b90c12d5733f12e64/services/a506dd0df18448f0ae0540e8c1419a73/execute?api-version=2.0&format=swagger'\n",
    "api_key = 'Du1Vsehxqw8MWDQpYN0Jd04W8r4irklCWKDUC9k/dxtMlLNrLOtDIMSXB/57TPl9hYpaxGDCqWTysrA4EZuTWw==' # Replace this with the API key for the web service\n",
    "headers = {'Content-Type':'application/json', 'Authorization':('Bearer '+ api_key)}\n",
    "\n",
    "req = urllib.request.Request(url, body, headers)\n",
    "\n",
    "try:\n",
    "    response = urllib.request.urlopen(req)\n",
    "\n",
    "    result = response.read()\n",
    "    print(result)\n",
    "except urllib.error.HTTPError as error:\n",
    "    print(\"The request failed with status code: \" + str(error.code))\n",
    "\n",
    "    # Print the headers - they include the requert ID and the timestamp, which are useful for debugging the failure\n",
    "    print(error.info())\n",
    "    print(json.loads(error.read().decode(\"utf8\", 'ignore')))"
   ]
  }
 ],
 "metadata": {
  "anaconda-cloud": {},
  "kernelspec": {
   "display_name": "Python [conda root]",
   "language": "python",
   "name": "conda-root-py"
  },
  "language_info": {
   "codemirror_mode": {
    "name": "ipython",
    "version": 3
   },
   "file_extension": ".py",
   "mimetype": "text/x-python",
   "name": "python",
   "nbconvert_exporter": "python",
   "pygments_lexer": "ipython3",
   "version": "3.5.2"
  }
 },
 "nbformat": 4,
 "nbformat_minor": 2
}
